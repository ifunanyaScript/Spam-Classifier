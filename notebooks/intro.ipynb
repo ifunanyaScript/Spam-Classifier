{
 "cells": [
  {
   "cell_type": "markdown",
   "metadata": {},
   "source": [
    "# Spam Classifier"
   ]
  },
  {
   "cell_type": "markdown",
   "metadata": {},
   "source": [
    "One of the most common problems associated with social media, especially messaging/texting platforms is unwanted stream of messages sent from bots. These unwanted stream of messages are called __spam__. These messages clogs and congest a users inbox and ruins the entire user experience.  \n",
    "To curb the influx of spams and sustain a good user experience, we devise ways to detect these spams and filter them accordingly from incoming messages.  \n",
    "This is a __Natural Language Processing(NLP)__ problem.<br>  \n",
    "Let's load the data(emails)..."
   ]
  },
  {
   "cell_type": "code",
   "execution_count": 1,
   "metadata": {},
   "outputs": [],
   "source": [
    "# Import necessary packages. \n",
    "import os\n",
    "import io\n",
    "import numpy\n",
    "from pandas import DataFrame\n",
    "from sklearn.feature_extraction.text import CountVectorizer\n",
    "from sklearn.naive_bayes import MultinomialNB\n",
    "import warnings\n",
    "\n",
    "\n",
    "# Ignore unnecessary warning.\n",
    "warnings.filterwarnings('ignore')"
   ]
  },
  {
   "cell_type": "markdown",
   "metadata": {},
   "source": [
    "Now, I'll define a function that load the messages from the directory on my hard disk."
   ]
  },
  {
   "cell_type": "code",
   "execution_count": 2,
   "metadata": {},
   "outputs": [],
   "source": [
    "def generateEmails(path):\n",
    "    for root, dirnames, filenames in os.walk(path):\n",
    "        for filename in filenames:\n",
    "            path = os.path.join(root, filename)\n",
    "\n",
    "            inBody = False\n",
    "            lines = []\n",
    "            f = io.open(path, 'r', encoding='latin1')\n",
    "            for line in f:\n",
    "                if inBody:\n",
    "                    lines.append(line)\n",
    "                elif line == '\\n':\n",
    "                    inBody = True\n",
    "            f.close()\n",
    "            emails = '\\n'.join(lines)\n",
    "            yield path, emails"
   ]
  },
  {
   "cell_type": "markdown",
   "metadata": {},
   "source": [
    "The __yield__ statement makes the above function a generator object. The above function generates the emails from the directory.<br>  \n",
    "I'll will be working with a __pandas__ dataframe. Thus, any message that is generated from the `generateEmails` generator will be added to the prospective  __pandas DataFrame__. Hence, I'll write a function that adds each generated message to a __pandas DataFrame.__"
   ]
  },
  {
   "cell_type": "code",
   "execution_count": 3,
   "metadata": {},
   "outputs": [],
   "source": [
    "def emailDataFrame(path, label):\n",
    "    rows = []\n",
    "    index = []\n",
    "    for filename, email in generateEmails(path):\n",
    "        rows.append({'message': email, 'label': label})\n",
    "        index.append(filename)\n",
    "\n",
    "    return DataFrame(rows, index=index)"
   ]
  },
  {
   "cell_type": "markdown",
   "metadata": {},
   "source": [
    "__NB:__ The above function uses the generator to get each message and adds it to the DataFrame."
   ]
  },
  {
   "cell_type": "code",
   "execution_count": 4,
   "metadata": {},
   "outputs": [],
   "source": [
    "# Initialise a pandas DataFrame.\n",
    "data = DataFrame({'message': [], 'label': []})\n",
    "\n",
    "# Load spam messages.\n",
    "data = data.append(emailDataFrame(r'../emails/spam', 'spam'))\n",
    "\n",
    "# Load authentic messages.\n",
    "data = data.append(emailDataFrame(r'../emails/ham', 'ham'))\n"
   ]
  },
  {
   "cell_type": "markdown",
   "metadata": {},
   "source": [
    "Okay!<br>"
   ]
  },
  {
   "cell_type": "code",
   "execution_count": 5,
   "metadata": {},
   "outputs": [
    {
     "data": {
      "text/html": [
       "<div>\n",
       "<style scoped>\n",
       "    .dataframe tbody tr th:only-of-type {\n",
       "        vertical-align: middle;\n",
       "    }\n",
       "\n",
       "    .dataframe tbody tr th {\n",
       "        vertical-align: top;\n",
       "    }\n",
       "\n",
       "    .dataframe thead th {\n",
       "        text-align: right;\n",
       "    }\n",
       "</style>\n",
       "<table border=\"1\" class=\"dataframe\">\n",
       "  <thead>\n",
       "    <tr style=\"text-align: right;\">\n",
       "      <th></th>\n",
       "      <th>message</th>\n",
       "      <th>label</th>\n",
       "    </tr>\n",
       "  </thead>\n",
       "  <tbody>\n",
       "    <tr>\n",
       "      <th>../emails/spam\\00001.7848dde101aa985090474a91ec93fcf0</th>\n",
       "      <td>&lt;!DOCTYPE HTML PUBLIC \"-//W3C//DTD HTML 4.0 Tr...</td>\n",
       "      <td>spam</td>\n",
       "    </tr>\n",
       "    <tr>\n",
       "      <th>../emails/spam\\00002.d94f1b97e48ed3b553b3508d116e6a09</th>\n",
       "      <td>1) Fight The Risk of Cancer!\\n\\nhttp://www.adc...</td>\n",
       "      <td>spam</td>\n",
       "    </tr>\n",
       "    <tr>\n",
       "      <th>../emails/spam\\00003.2ee33bc6eacdb11f38d052c44819ba6c</th>\n",
       "      <td>1) Fight The Risk of Cancer!\\n\\nhttp://www.adc...</td>\n",
       "      <td>spam</td>\n",
       "    </tr>\n",
       "    <tr>\n",
       "      <th>../emails/spam\\00004.eac8de8d759b7e74154f142194282724</th>\n",
       "      <td>##############################################...</td>\n",
       "      <td>spam</td>\n",
       "    </tr>\n",
       "    <tr>\n",
       "      <th>../emails/spam\\00005.57696a39d7d84318ce497886896bf90d</th>\n",
       "      <td>I thought you might like these:\\n\\n1) Slim Dow...</td>\n",
       "      <td>spam</td>\n",
       "    </tr>\n",
       "  </tbody>\n",
       "</table>\n",
       "</div>"
      ],
      "text/plain": [
       "                                                                                              message  \\\n",
       "../emails/spam\\00001.7848dde101aa985090474a91ec...  <!DOCTYPE HTML PUBLIC \"-//W3C//DTD HTML 4.0 Tr...   \n",
       "../emails/spam\\00002.d94f1b97e48ed3b553b3508d11...  1) Fight The Risk of Cancer!\\n\\nhttp://www.adc...   \n",
       "../emails/spam\\00003.2ee33bc6eacdb11f38d052c448...  1) Fight The Risk of Cancer!\\n\\nhttp://www.adc...   \n",
       "../emails/spam\\00004.eac8de8d759b7e74154f142194...  ##############################################...   \n",
       "../emails/spam\\00005.57696a39d7d84318ce49788689...  I thought you might like these:\\n\\n1) Slim Dow...   \n",
       "\n",
       "                                                   label  \n",
       "../emails/spam\\00001.7848dde101aa985090474a91ec...  spam  \n",
       "../emails/spam\\00002.d94f1b97e48ed3b553b3508d11...  spam  \n",
       "../emails/spam\\00003.2ee33bc6eacdb11f38d052c448...  spam  \n",
       "../emails/spam\\00004.eac8de8d759b7e74154f142194...  spam  \n",
       "../emails/spam\\00005.57696a39d7d84318ce49788689...  spam  "
      ]
     },
     "execution_count": 5,
     "metadata": {},
     "output_type": "execute_result"
    }
   ],
   "source": [
    "# Visualise a few samples\n",
    "data.head()"
   ]
  },
  {
   "cell_type": "code",
   "execution_count": 6,
   "metadata": {},
   "outputs": [
    {
     "data": {
      "text/html": [
       "<div>\n",
       "<style scoped>\n",
       "    .dataframe tbody tr th:only-of-type {\n",
       "        vertical-align: middle;\n",
       "    }\n",
       "\n",
       "    .dataframe tbody tr th {\n",
       "        vertical-align: top;\n",
       "    }\n",
       "\n",
       "    .dataframe thead th {\n",
       "        text-align: right;\n",
       "    }\n",
       "</style>\n",
       "<table border=\"1\" class=\"dataframe\">\n",
       "  <thead>\n",
       "    <tr style=\"text-align: right;\">\n",
       "      <th></th>\n",
       "      <th>message</th>\n",
       "      <th>label</th>\n",
       "    </tr>\n",
       "  </thead>\n",
       "  <tbody>\n",
       "    <tr>\n",
       "      <th>../emails/ham\\02496.aae0c81581895acfe65323f344340856</th>\n",
       "      <td>Man killed 'trying to surf' on Tube train \\n\\n...</td>\n",
       "      <td>ham</td>\n",
       "    </tr>\n",
       "    <tr>\n",
       "      <th>../emails/ham\\02497.60497db0a06c2132ec2374b2898084d3</th>\n",
       "      <td>Hi Gianni,\\n\\n\\n\\nA very good resource for thi...</td>\n",
       "      <td>ham</td>\n",
       "    </tr>\n",
       "    <tr>\n",
       "      <th>../emails/ham\\02498.09835f512f156da210efb99fcc523e21</th>\n",
       "      <td>Gianni Ponzi wrote:\\n\\n&gt; I have a prob when tr...</td>\n",
       "      <td>ham</td>\n",
       "    </tr>\n",
       "    <tr>\n",
       "      <th>../emails/ham\\02499.b4af165650f138b10f9941f6cc5bce3c</th>\n",
       "      <td>Neale Pickett &lt;neale@woozle.org&gt; writes:\\n\\n\\n...</td>\n",
       "      <td>ham</td>\n",
       "    </tr>\n",
       "    <tr>\n",
       "      <th>../emails/ham\\02500.05b3496ce7bca306bed0805425ec8621</th>\n",
       "      <td>\\n\\nHi,\\n\\n\\n\\nI think you need to give us a l...</td>\n",
       "      <td>ham</td>\n",
       "    </tr>\n",
       "  </tbody>\n",
       "</table>\n",
       "</div>"
      ],
      "text/plain": [
       "                                                                                              message  \\\n",
       "../emails/ham\\02496.aae0c81581895acfe65323f3443...  Man killed 'trying to surf' on Tube train \\n\\n...   \n",
       "../emails/ham\\02497.60497db0a06c2132ec2374b2898...  Hi Gianni,\\n\\n\\n\\nA very good resource for thi...   \n",
       "../emails/ham\\02498.09835f512f156da210efb99fcc5...  Gianni Ponzi wrote:\\n\\n> I have a prob when tr...   \n",
       "../emails/ham\\02499.b4af165650f138b10f9941f6cc5...  Neale Pickett <neale@woozle.org> writes:\\n\\n\\n...   \n",
       "../emails/ham\\02500.05b3496ce7bca306bed0805425e...  \\n\\nHi,\\n\\n\\n\\nI think you need to give us a l...   \n",
       "\n",
       "                                                   label  \n",
       "../emails/ham\\02496.aae0c81581895acfe65323f3443...   ham  \n",
       "../emails/ham\\02497.60497db0a06c2132ec2374b2898...   ham  \n",
       "../emails/ham\\02498.09835f512f156da210efb99fcc5...   ham  \n",
       "../emails/ham\\02499.b4af165650f138b10f9941f6cc5...   ham  \n",
       "../emails/ham\\02500.05b3496ce7bca306bed0805425e...   ham  "
      ]
     },
     "execution_count": 6,
     "metadata": {},
     "output_type": "execute_result"
    }
   ],
   "source": [
    "data.tail()"
   ]
  },
  {
   "cell_type": "markdown",
   "metadata": {},
   "source": [
    "Alright!<br>  \n",
    "In the next notebook, I'll model a Naive Bayes algorithm for classifying spam.  \n",
    "I'll save this DataFrame as it will be used in the next notebook __Naive Bayes Classifier__"
   ]
  },
  {
   "cell_type": "code",
   "execution_count": 7,
   "metadata": {},
   "outputs": [
    {
     "name": "stdout",
     "output_type": "stream",
     "text": [
      "Stored 'data' (DataFrame)\n"
     ]
    }
   ],
   "source": [
    "%store data"
   ]
  },
  {
   "cell_type": "code",
   "execution_count": 8,
   "metadata": {},
   "outputs": [],
   "source": [
    "# ifunanyaScript"
   ]
  }
 ],
 "metadata": {
  "kernelspec": {
   "display_name": "Python 3 (ipykernel)",
   "language": "python",
   "name": "python3"
  },
  "language_info": {
   "codemirror_mode": {
    "name": "ipython",
    "version": 3
   },
   "file_extension": ".py",
   "mimetype": "text/x-python",
   "name": "python",
   "nbconvert_exporter": "python",
   "pygments_lexer": "ipython3",
   "version": "3.9.12"
  }
 },
 "nbformat": 4,
 "nbformat_minor": 1
}
