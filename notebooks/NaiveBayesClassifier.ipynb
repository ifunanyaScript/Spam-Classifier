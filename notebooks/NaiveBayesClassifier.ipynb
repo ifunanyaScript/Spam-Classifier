{
 "cells": [
  {
   "attachments": {
    "bayes__theorem.svg": {
     "image/svg+xml": [
      "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"
     ]
    }
   },
   "cell_type": "markdown",
   "metadata": {},
   "source": [
    "# Naive Bayes Classifier\n",
    "###### Bayes' theorem\n",
    "![bayes__theorem.svg](attachment:bayes__theorem.svg)\n",
    "The Naive Bayes classifier is a probabilistic classifier that is based on Bayes' theorem with a caveat of strong(naive) independence of features.<br>\n",
    "The Naive Bayes classifier assumes conditional independence. This means that the relationship between all input features are independent; That is why it is called __naive__.<br>  \n",
    "For instance given two sentences;  \n",
    "\"Free! Free!! Free!!! Free iPhone 12 pro max for you.\"__,__ <br> \"Hey Max, I've got some free tickets to the game, would you like to come?\"  \n",
    "Apparently, the first message is a spam, whereas the second seems authentic.  \n",
    "As a result of conditional independence, there's a likelihood that the __NB classifier__ might classify the latter message as a spam just because of the word __free__."
   ]
  },
  {
   "cell_type": "code",
   "execution_count": 1,
   "metadata": {},
   "outputs": [],
   "source": [
    "# Import necessary packages\n",
    "import numpy as np\n",
    "import pickle\n",
    "from sklearn.model_selection import train_test_split as tts\n",
    "from sklearn.naive_bayes import MultinomialNB\n",
    "from sklearn.feature_extraction.text import CountVectorizer"
   ]
  },
  {
   "cell_type": "markdown",
   "metadata": {},
   "source": [
    "Load the DataFrame from the previous notebook..."
   ]
  },
  {
   "cell_type": "code",
   "execution_count": 2,
   "metadata": {
    "scrolled": true
   },
   "outputs": [
    {
     "data": {
      "text/html": [
       "<div>\n",
       "<style scoped>\n",
       "    .dataframe tbody tr th:only-of-type {\n",
       "        vertical-align: middle;\n",
       "    }\n",
       "\n",
       "    .dataframe tbody tr th {\n",
       "        vertical-align: top;\n",
       "    }\n",
       "\n",
       "    .dataframe thead th {\n",
       "        text-align: right;\n",
       "    }\n",
       "</style>\n",
       "<table border=\"1\" class=\"dataframe\">\n",
       "  <thead>\n",
       "    <tr style=\"text-align: right;\">\n",
       "      <th></th>\n",
       "      <th>message</th>\n",
       "      <th>label</th>\n",
       "    </tr>\n",
       "  </thead>\n",
       "  <tbody>\n",
       "    <tr>\n",
       "      <th>../emails/spam\\00001.7848dde101aa985090474a91ec93fcf0</th>\n",
       "      <td>&lt;!DOCTYPE HTML PUBLIC \"-//W3C//DTD HTML 4.0 Tr...</td>\n",
       "      <td>spam</td>\n",
       "    </tr>\n",
       "    <tr>\n",
       "      <th>../emails/spam\\00002.d94f1b97e48ed3b553b3508d116e6a09</th>\n",
       "      <td>1) Fight The Risk of Cancer!\\n\\nhttp://www.adc...</td>\n",
       "      <td>spam</td>\n",
       "    </tr>\n",
       "    <tr>\n",
       "      <th>../emails/spam\\00003.2ee33bc6eacdb11f38d052c44819ba6c</th>\n",
       "      <td>1) Fight The Risk of Cancer!\\n\\nhttp://www.adc...</td>\n",
       "      <td>spam</td>\n",
       "    </tr>\n",
       "    <tr>\n",
       "      <th>../emails/spam\\00004.eac8de8d759b7e74154f142194282724</th>\n",
       "      <td>##############################################...</td>\n",
       "      <td>spam</td>\n",
       "    </tr>\n",
       "    <tr>\n",
       "      <th>../emails/spam\\00005.57696a39d7d84318ce497886896bf90d</th>\n",
       "      <td>I thought you might like these:\\n\\n1) Slim Dow...</td>\n",
       "      <td>spam</td>\n",
       "    </tr>\n",
       "  </tbody>\n",
       "</table>\n",
       "</div>"
      ],
      "text/plain": [
       "                                                                                              message  \\\n",
       "../emails/spam\\00001.7848dde101aa985090474a91ec...  <!DOCTYPE HTML PUBLIC \"-//W3C//DTD HTML 4.0 Tr...   \n",
       "../emails/spam\\00002.d94f1b97e48ed3b553b3508d11...  1) Fight The Risk of Cancer!\\n\\nhttp://www.adc...   \n",
       "../emails/spam\\00003.2ee33bc6eacdb11f38d052c448...  1) Fight The Risk of Cancer!\\n\\nhttp://www.adc...   \n",
       "../emails/spam\\00004.eac8de8d759b7e74154f142194...  ##############################################...   \n",
       "../emails/spam\\00005.57696a39d7d84318ce49788689...  I thought you might like these:\\n\\n1) Slim Dow...   \n",
       "\n",
       "                                                   label  \n",
       "../emails/spam\\00001.7848dde101aa985090474a91ec...  spam  \n",
       "../emails/spam\\00002.d94f1b97e48ed3b553b3508d11...  spam  \n",
       "../emails/spam\\00003.2ee33bc6eacdb11f38d052c448...  spam  \n",
       "../emails/spam\\00004.eac8de8d759b7e74154f142194...  spam  \n",
       "../emails/spam\\00005.57696a39d7d84318ce49788689...  spam  "
      ]
     },
     "execution_count": 2,
     "metadata": {},
     "output_type": "execute_result"
    }
   ],
   "source": [
    "%store -r data\n",
    "data.head()"
   ]
  },
  {
   "cell_type": "markdown",
   "metadata": {},
   "source": [
    "We'll split the data into training and testing chunks."
   ]
  },
  {
   "cell_type": "code",
   "execution_count": 3,
   "metadata": {},
   "outputs": [],
   "source": [
    "# Define features(X) and targets(Y).\n",
    "X = data['message'].values\n",
    "Y = data['label'].values\n",
    "\n",
    "X_train, X_test, Y_train, Y_test = tts(X, Y, test_size=0.1, random_state=12345, shuffle=True)"
   ]
  },
  {
   "cell_type": "code",
   "execution_count": 4,
   "metadata": {},
   "outputs": [],
   "source": [
    "# Initialise a Naive Bayes Classifier\n",
    "classifier = MultinomialNB()"
   ]
  },
  {
   "cell_type": "markdown",
   "metadata": {},
   "source": [
    "We cannot just throw text into the classifier. We must extract features from said text before feeding it to the classifier. \n",
    "A count vectorizer is an amazing way to extract features from text. It simply creates a matrix that counts the frequency of each unique word in the entire dataset.<br>  \n",
    "If you wish to gain better undertanding of how CountVectorizer works, this is an amazing [article](https://www.geeksforgeeks.org/using-countvectorizer-to-extracting-features-from-text/) for that."
   ]
  },
  {
   "cell_type": "code",
   "execution_count": 5,
   "metadata": {
    "scrolled": false
   },
   "outputs": [],
   "source": [
    "# Initialise a count vectorizer.\n",
    "vectorizer = CountVectorizer()\n",
    "\n",
    "# Transform the messages.\n",
    "X_train = vectorizer.fit_transform(X_train)"
   ]
  },
  {
   "cell_type": "markdown",
   "metadata": {},
   "source": [
    "Ok!<br>\n",
    "Now, we have a sparse matrix of features extracted from the messages.  \n",
    "Let's go ahead train the classifier by calling `.fit`"
   ]
  },
  {
   "cell_type": "code",
   "execution_count": 6,
   "metadata": {},
   "outputs": [
    {
     "data": {
      "text/plain": [
       "MultinomialNB()"
      ]
     },
     "execution_count": 6,
     "metadata": {},
     "output_type": "execute_result"
    }
   ],
   "source": [
    "classifier.fit(X_train, Y_train)"
   ]
  },
  {
   "cell_type": "markdown",
   "metadata": {},
   "source": [
    "Time to evaluate the classifier using the test chunk."
   ]
  },
  {
   "cell_type": "code",
   "execution_count": 7,
   "metadata": {},
   "outputs": [
    {
     "name": "stdout",
     "output_type": "stream",
     "text": [
      "Accuracy of the spam classifier: 95%\n"
     ]
    }
   ],
   "source": [
    "X_test = vectorizer.transform(X_test)\n",
    "\n",
    "accuracy = classifier.score(X_test, Y_test)\n",
    "print(f\"Accuracy of the spam classifier: {round(100*accuracy)}%\")"
   ]
  },
  {
   "cell_type": "markdown",
   "metadata": {},
   "source": [
    "Amazing!!!<br>\n",
    "The spam classifier achieved 95% accuracy on unseen data.<br>  \n",
    "Now, I can apply this classifier in function for __spam filtering__.  \n",
    "Let's do that..."
   ]
  },
  {
   "cell_type": "code",
   "execution_count": 24,
   "metadata": {},
   "outputs": [],
   "source": [
    "def spamFilterer(message):\n",
    "    \"\"\"\n",
    "    This function takes an incoming message from the server,\n",
    "    If the message is perceived to be a spam, the function filters it.\n",
    "    Whereas, if the message is perceived to be authentic, the function returns it.\n",
    "    \"\"\"\n",
    "    text = vectorizer.transform(message)\n",
    "    prediction = classifier.predict(text)[0]\n",
    "    \n",
    "    if prediction == 'spam':\n",
    "        return None\n",
    "    else:\n",
    "        return message[0]"
   ]
  },
  {
   "cell_type": "code",
   "execution_count": 25,
   "metadata": {
    "scrolled": true
   },
   "outputs": [
    {
     "data": {
      "text/plain": [
       "\"Amanda, you were supposed to come around yesterday. Why didn't you?\""
      ]
     },
     "execution_count": 25,
     "metadata": {},
     "output_type": "execute_result"
    }
   ],
   "source": [
    "spamFilterer([\"Amanda, you were supposed to come around yesterday. Why didn't you?\"])"
   ]
  },
  {
   "cell_type": "code",
   "execution_count": 26,
   "metadata": {},
   "outputs": [],
   "source": [
    "spamFilterer([\"Colect gifts here!!!\"])"
   ]
  },
  {
   "cell_type": "markdown",
   "metadata": {},
   "source": [
    "As expected.  \n",
    "Finally, I'll export this trained classifier to a pickle file.<br>  \n",
    "__NB:__ The count vectorizer is restricted to only the amount of unique words in this dataset, which is about 60600 words. Also, the classifier was specifically trained using this count vectorizer. Therefore, the model is accustomed to the feature matrix, and format of this count vectorizer.  \n",
    "Hence, there is a limitation to using this classifier."
   ]
  },
  {
   "cell_type": "code",
   "execution_count": 9,
   "metadata": {
    "scrolled": true
   },
   "outputs": [],
   "source": [
    "# Export the model as a pickle file.\n",
    "with open('../spam_models/naive_bayes.pickle', 'wb') as f:\n",
    "    pickle.dump(classifier, f)"
   ]
  },
  {
   "cell_type": "code",
   "execution_count": 10,
   "metadata": {},
   "outputs": [],
   "source": [
    "# ifunanyaScript"
   ]
  }
 ],
 "metadata": {
  "kernelspec": {
   "display_name": "Python 3 (ipykernel)",
   "language": "python",
   "name": "python3"
  },
  "language_info": {
   "codemirror_mode": {
    "name": "ipython",
    "version": 3
   },
   "file_extension": ".py",
   "mimetype": "text/x-python",
   "name": "python",
   "nbconvert_exporter": "python",
   "pygments_lexer": "ipython3",
   "version": "3.9.12"
  }
 },
 "nbformat": 4,
 "nbformat_minor": 1
}
